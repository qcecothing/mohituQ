{
 "cells": [
  {
   "cell_type": "code",
   "execution_count": null,
   "id": "f2a4e39a-92c2-43c5-a140-cf560013e307",
   "metadata": {},
   "outputs": [],
   "source": [
    "import numpy as np\n",
    "import itertools"
   ]
  },
  {
   "cell_type": "code",
   "execution_count": null,
   "id": "250ce5f9-69a8-4b6e-9844-52281945ec01",
   "metadata": {},
   "outputs": [],
   "source": []
  },
  {
   "cell_type": "code",
   "execution_count": 116,
   "id": "404321d0-01a4-41c6-8e62-01c5a9c732ed",
   "metadata": {},
   "outputs": [
    {
     "name": "stdout",
     "output_type": "stream",
     "text": [
      "[0 1 1 1 1 0 1 1 1 1 1 1]\n"
     ]
    }
   ],
   "source": [
    "B = np.array([\n",
    "    [0, 0, 1, 0, 0, 0, 0, 0, 0],\n",
    "    [1, 0, 0, 1, 0, 0, 0, 0, 0],\n",
    "    [0, 0, 0, 1, 1, 0, 0, 0, 0],\n",
    "    [1, 1, 0, 0, 0, 0, 0, 0, 0],\n",
    "    [0, 0, 1, 0, 1, 0, 0, 0, 0],\n",
    "    [0, 0, 0, 1, 0, 0, 0, 0, 0],\n",
    "    [0, 0, 0, 0, 1, 0, 1, 0, 0],\n",
    "    [0, 0, 0, 0, 0, 0, 1, 1, 0],\n",
    "    [0, 0, 0, 0, 0, 0, 0, 1, 1],\n",
    "    [0, 0, 0, 0, 0, 1, 0, 1, 0],\n",
    "    [0, 0, 0, 0, 1, 0, 0, 0, 1],\n",
    "    [0, 0, 0, 0, 1, 1, 0, 0, 0],\n",
    "])\n",
    "\n",
    "c = np.ones(12, dtype=int)  # 10 entries, all 1\n",
    "c[0] = 0\n",
    "c[5] = 0\n",
    "\n",
    "print(c)\n"
   ]
  },
  {
   "cell_type": "code",
   "execution_count": 117,
   "id": "c029d302-8c4b-4bb6-ba0a-48e34f2d864b",
   "metadata": {},
   "outputs": [
    {
     "data": {
      "text/plain": [
       "(12, 9)"
      ]
     },
     "execution_count": 117,
     "metadata": {},
     "output_type": "execute_result"
    }
   ],
   "source": [
    "B.shape"
   ]
  },
  {
   "cell_type": "code",
   "execution_count": 119,
   "id": "a055e818-7087-41fb-a4c8-0ae3cbb017bf",
   "metadata": {},
   "outputs": [
    {
     "name": "stdout",
     "output_type": "stream",
     "text": [
      "Assignment [0 0 1 0 1 1 0 1 1] satisfies 4 out of 12 constraints.\n"
     ]
    }
   ],
   "source": [
    "def count_satisfied_constraints(assignment):\n",
    "    \"\"\"\n",
    "    assignment: array-like of 4 binary variables (b1, b2, b3, b4)\n",
    "    returns: number of satisfied constraints\n",
    "    \"\"\"\n",
    "    assignment = np.array(assignment) % 2  # make sure it's mod 2\n",
    "    lhs = (B @ assignment) % 2\n",
    "    satisfied = (lhs == c)\n",
    "    return np.sum(satisfied)\n",
    "\n",
    "# Example usage:\n",
    "assignment = np.random.randint(0, 2, size=(B.shape[1]))  # example assignment\n",
    "num_satisfied = count_satisfied_constraints(assignment)\n",
    "print(f\"Assignment {assignment} satisfies {num_satisfied} out of {(B.shape[0])} constraints.\")\n"
   ]
  },
  {
   "cell_type": "code",
   "execution_count": 120,
   "id": "dea2d10b-3d3a-423e-ace7-c3839f10f200",
   "metadata": {},
   "outputs": [
    {
     "name": "stdout",
     "output_type": "stream",
     "text": [
      "Best number of satisfied constraints: 12 out of 12\n",
      "Best assignment(s):\n",
      "(1, 0, 0, 0, 1, 0, 0, 1, 0)\n"
     ]
    }
   ],
   "source": [
    "# Enumerate all 2^4 = 16 possible assignments\n",
    "all_assignments = list(itertools.product([0, 1], repeat=B.shape[1]))\n",
    "\n",
    "# Track best assignments\n",
    "best_count = -1\n",
    "best_assignments = []\n",
    "\n",
    "for assignment in all_assignments:\n",
    "    count = count_satisfied_constraints(assignment)\n",
    "    if count > best_count:\n",
    "        best_count = count\n",
    "        best_assignments = [assignment]\n",
    "    elif count == best_count:\n",
    "        best_assignments.append(assignment)\n",
    "\n",
    "# Display results\n",
    "print(f\"Best number of satisfied constraints: {best_count} out of {(B.shape[0])}\")\n",
    "print(\"Best assignment(s):\")\n",
    "for assignment in best_assignments:\n",
    "    print(assignment)\n"
   ]
  },
  {
   "cell_type": "code",
   "execution_count": 121,
   "id": "52def3ed-6b53-4714-a35f-8ae94425bf48",
   "metadata": {
    "collapsed": true,
    "jupyter": {
     "outputs_hidden": true
    },
    "scrolled": true
   },
   "outputs": [
    {
     "name": "stdout",
     "output_type": "stream",
     "text": [
      "Best number of satisfied constraints: 13 out of 15\n",
      "Best assignment(s):\n",
      "(0, 1, 0, 1, 0, 1, 0, 1, 1)\n",
      "5\n",
      "Best number of satisfied constraints: 13 out of 15\n",
      "Best assignment(s):\n",
      "(0, 1, 1, 1, 0, 1, 1, 1, 0)\n",
      "(1, 1, 1, 0, 1, 0, 0, 1, 0)\n",
      "6\n",
      "Best number of satisfied constraints: 12 out of 15\n",
      "Best assignment(s):\n",
      "(0, 0, 0, 0, 1, 0, 1, 0, 1)\n",
      "(0, 0, 0, 1, 1, 1, 1, 0, 1)\n",
      "(1, 0, 0, 1, 1, 1, 1, 0, 1)\n",
      "(1, 0, 1, 1, 0, 0, 1, 1, 1)\n",
      "(1, 0, 1, 1, 0, 1, 0, 1, 1)\n",
      "(1, 1, 0, 1, 0, 0, 1, 0, 0)\n",
      "6\n",
      "Best number of satisfied constraints: 15 out of 15\n",
      "Best assignment(s):\n",
      "(1, 0, 1, 1, 0, 0, 0, 0, 1)\n",
      "4\n",
      "Best number of satisfied constraints: 14 out of 15\n",
      "Best assignment(s):\n",
      "(0, 0, 1, 0, 0, 1, 0, 0, 0)\n",
      "2\n",
      "Best number of satisfied constraints: 14 out of 15\n",
      "Best assignment(s):\n",
      "(0, 0, 0, 1, 1, 1, 0, 1, 1)\n",
      "5\n",
      "Best number of satisfied constraints: 13 out of 15\n",
      "Best assignment(s):\n",
      "(0, 1, 0, 0, 1, 1, 1, 0, 0)\n",
      "(1, 0, 0, 0, 0, 1, 1, 0, 0)\n",
      "(1, 0, 1, 1, 0, 0, 1, 0, 1)\n",
      "5\n",
      "Best number of satisfied constraints: 13 out of 15\n",
      "Best assignment(s):\n",
      "(0, 0, 1, 0, 0, 1, 1, 0, 0)\n",
      "3\n"
     ]
    }
   ],
   "source": [
    "num_nonzero = None\n",
    "while(num_nonzero!=3):\n",
    "    # Generate random 0-1 matrix of size 16 x 18\n",
    "    B = np.random.randint(0, 2, size=(15,9))\n",
    "    \n",
    "    c = np.random.randint(0, 2, size=(15))\n",
    "        \n",
    "    # Enumerate all 2^4 = 16 possible assignments\n",
    "    all_assignments = list(itertools.product([0, 1], repeat=B.shape[1]))\n",
    "    \n",
    "    # Track best assignments\n",
    "    best_count = -1\n",
    "    best_assignments = []\n",
    "    \n",
    "    for assignment in all_assignments:\n",
    "        count = count_satisfied_constraints(assignment)\n",
    "        if count > best_count:\n",
    "            best_count = count\n",
    "            best_assignments = [assignment]\n",
    "        elif count == best_count:\n",
    "            best_assignments.append(assignment)\n",
    "    \n",
    "    # Display results\n",
    "    print(f\"Best number of satisfied constraints: {best_count} out of {(B.shape[0])}\")\n",
    "    print(\"Best assignment(s):\")\n",
    "    for assignment in best_assignments:\n",
    "        print(assignment)\n",
    "\n",
    "    num_nonzero = np.max([np.count_nonzero(a) for a in best_assignments])\n",
    "    print(num_nonzero)\n"
   ]
  },
  {
   "cell_type": "code",
   "execution_count": 39,
   "id": "81664b1c-768b-42b5-af7d-1a58fe1d1280",
   "metadata": {},
   "outputs": [
    {
     "name": "stdout",
     "output_type": "stream",
     "text": [
      "The minimum distance is 2.0\n"
     ]
    }
   ],
   "source": [
    "from itertools import combinations\n",
    "\n",
    "# Define B\n",
    "import numpy as n\n",
    "\n",
    "B = np.array([\n",
    "    [1., 1., 0., 0., 0., 0.],\n",
    "    [1., 0., 0., 0., 1., 0.],\n",
    "    [0., 1., 1., 0., 0., 0.],\n",
    "    [0., 0., 1., 1., 0., 0.],\n",
    "    [0., 0., 0., 1., 0., 1.],\n",
    "    [0., 0., 0., 0., 1., 1.]\n",
    "])\n",
    "\n",
    "\n",
    "# Function to compute weight (number of nonzero entries)\n",
    "def weight(v):\n",
    "    return np.sum(v)\n",
    "\n",
    "# Initialize minimum weight as large\n",
    "min_weight = B.shape[1] + 1\n",
    "\n",
    "# Check all nonzero combinations of rows\n",
    "for r in range(1, B.shape[0]+1):\n",
    "    for rows in combinations(range(B.shape[0]), r):\n",
    "        combo = np.sum(B[list(rows)], axis=0) % 2\n",
    "        w = weight(combo)\n",
    "        if w != 0:\n",
    "            min_weight = min(min_weight, w)\n",
    "\n",
    "print(f\"The minimum distance is {min_weight}\")\n"
   ]
  },
  {
   "cell_type": "code",
   "execution_count": 36,
   "id": "90fa7ca5-24f1-40f8-9069-67e519d1d4ae",
   "metadata": {},
   "outputs": [
    {
     "name": "stdout",
     "output_type": "stream",
     "text": [
      "Best distance found: 2\n",
      "Matrix B with best distance:\n",
      "[[0 1 0 0 1]\n",
      " [0 0 0 0 0]\n",
      " [1 1 0 0 0]\n",
      " [1 0 0 0 1]\n",
      " [0 1 1 0 0]\n",
      " [0 1 1 1 1]\n",
      " [1 1 1 1 0]\n",
      " [1 1 0 0 0]\n",
      " [1 1 1 1 0]\n",
      " [1 0 1 1 1]]\n"
     ]
    }
   ],
   "source": [
    "import numpy as np\n",
    "from itertools import combinations\n",
    "\n",
    "def weight(v):\n",
    "    return np.sum(v)\n",
    "\n",
    "def compute_min_distance(B):\n",
    "    min_weight = B.shape[1] + 1\n",
    "    for r in range(1, B.shape[0]+1):\n",
    "        for rows in combinations(range(B.shape[0]), r):\n",
    "            combo = np.sum(B[list(rows)], axis=0) % 2\n",
    "            w = weight(combo)\n",
    "            if w != 0:\n",
    "                min_weight = min(min_weight, w)\n",
    "    return min_weight\n",
    "\n",
    "# Parameters\n",
    "n_rows = 10  # tall\n",
    "n_cols = 5\n",
    "n_samples = 1000  # number of random matrices to generate\n",
    "\n",
    "best_distance = -1\n",
    "best_B = None\n",
    "\n",
    "for _ in range(n_samples):\n",
    "    B = np.random.randint(0, 2, size=(n_rows, n_cols))\n",
    "    d = compute_min_distance(B)\n",
    "    if d > best_distance:\n",
    "        best_distance = d\n",
    "        best_B = B.copy()\n",
    "\n",
    "print(f\"Best distance found: {best_distance}\")\n",
    "print(\"Matrix B with best distance:\")\n",
    "print(best_B)\n"
   ]
  },
  {
   "cell_type": "markdown",
   "id": "4539d155-2d9c-4b8d-917d-3df6061c03ba",
   "metadata": {},
   "source": [
    "1. Given B, figure out the distance and the maximum polynomial degree that can be efficiently generated with DQI \n",
    "2. Generate the approximation ratio compare to classical algorithms (using \n"
   ]
  },
  {
   "cell_type": "code",
   "execution_count": 42,
   "id": "1b76053c-1e90-4498-b09b-095c1f37f7b8",
   "metadata": {},
   "outputs": [],
   "source": [
    "import numpy as np\n",
    "from itertools import product\n",
    "\n",
    "def code_distance(B):\n",
    "    n = B.shape[1]\n",
    "    min_weight = np.inf\n",
    "\n",
    "    # Iterate over all nonzero vectors in {0,1}^n\n",
    "    for bits in product([0,1], repeat=n):\n",
    "        x = np.array(bits)\n",
    "        if np.any(x) and np.all(B @ x % 2 == 0):\n",
    "            weight = np.sum(x)\n",
    "            if weight < min_weight:\n",
    "                min_weight = weight\n",
    "    \n",
    "    return min_weight if min_weight != np.inf else 0\n"
   ]
  }
 ],
 "metadata": {
  "kernelspec": {
   "display_name": "Python 3 (ipykernel)",
   "language": "python",
   "name": "python3"
  },
  "language_info": {
   "codemirror_mode": {
    "name": "ipython",
    "version": 3
   },
   "file_extension": ".py",
   "mimetype": "text/x-python",
   "name": "python",
   "nbconvert_exporter": "python",
   "pygments_lexer": "ipython3",
   "version": "3.13.1"
  }
 },
 "nbformat": 4,
 "nbformat_minor": 5
}
