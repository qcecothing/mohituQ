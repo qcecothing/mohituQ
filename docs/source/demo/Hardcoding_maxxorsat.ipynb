{
 "cells": [
  {
   "cell_type": "code",
   "execution_count": 198,
   "id": "cc3a4bf7-b15c-4e16-ac53-4638206b4c3a",
   "metadata": {},
   "outputs": [],
   "source": [
    "import numpy as np\n",
    "from itertools import product"
   ]
  },
  {
   "cell_type": "code",
   "execution_count": 86,
   "id": "361733fe-f932-4a49-a704-45b36b34ede4",
   "metadata": {},
   "outputs": [],
   "source": [
    "import numpy as np\n",
    "from itertools import combinations\n",
    "\n",
    "def codespace_distance_sumzero(B):\n",
    "    \"\"\"\n",
    "    Given a binary matrix B, finds the minimum number k such that\n",
    "    some k columns sum to zero mod 2.\n",
    "    \"\"\"\n",
    "    n_cols = B.shape[1]\n",
    "\n",
    "    for k in range(1, n_cols + 1):\n",
    "        for cols in combinations(range(n_cols), k):\n",
    "            submatrix = B[:, cols]\n",
    "            col_sum = np.sum(submatrix, axis=1) % 2\n",
    "            if np.all(col_sum == 0):\n",
    "                #print(submatrix)\n",
    "                return k  # Found k columns summing to zero\n",
    "    return None  # Should not happen unless B is weird\n"
   ]
  },
  {
   "cell_type": "code",
   "execution_count": 78,
   "id": "83254ccc-5911-4c2b-b5ec-666a94bc2c4c",
   "metadata": {},
   "outputs": [],
   "source": [
    "def random_binary_matrix_one_or_two_ones_unique(m, n, seed=None):\n",
    "    \"\"\"\n",
    "    Generate an m x n binary matrix where each row has 1 or 2 ones,\n",
    "    and no duplicate rows.\n",
    "    \"\"\"\n",
    "    if seed is not None:\n",
    "        np.random.seed(seed)\n",
    "\n",
    "    max_unique_rows = n + (n * (n - 1)) // 2\n",
    "    if m > max_unique_rows:\n",
    "        raise ValueError(\"Too many rows requested: not enough unique 1-or-2-one rows possible.\")\n",
    "\n",
    "    rows = set()\n",
    "    matrix = []\n",
    "\n",
    "    while len(matrix) < m:\n",
    "        row = np.zeros(n, dtype=int)\n",
    "        num_ones = np.random.choice([1, 2])  # Pick 1 or 2 ones\n",
    "        ones_positions = np.random.choice(n, size=num_ones, replace=False)\n",
    "        row[ones_positions] = 1\n",
    "\n",
    "        row_tuple = tuple(row)\n",
    "\n",
    "        if row_tuple not in rows:\n",
    "            rows.add(row_tuple)\n",
    "            matrix.append(row)\n",
    "\n",
    "    return np.array(matrix)"
   ]
  },
  {
   "cell_type": "code",
   "execution_count": 83,
   "id": "a687cf0b-2942-4b7a-9a9f-b4e6ce9cb5b8",
   "metadata": {},
   "outputs": [
    {
     "name": "stdout",
     "output_type": "stream",
     "text": [
      "4\n"
     ]
    }
   ],
   "source": [
    "d_max = -1\n",
    "B_max = None\n",
    "for i in range(1000):\n",
    "    B = random_binary_matrix_one_or_two_ones_unique(15, 9)\n",
    "    d = codespace_distance_sumzero(B.T)\n",
    "    if d_max < d:\n",
    "        d_max = d\n",
    "        B_max = B\n",
    "        if d == 4: break\n",
    "print(d)\n"
   ]
  },
  {
   "cell_type": "code",
   "execution_count": 84,
   "id": "ea4d6ef3-83e2-4aa5-b38f-051dd31d8cbb",
   "metadata": {},
   "outputs": [
    {
     "data": {
      "text/plain": [
       "4"
      ]
     },
     "execution_count": 84,
     "metadata": {},
     "output_type": "execute_result"
    }
   ],
   "source": [
    "# Great! A code distance of 4 means that we get a quartic boost in the probability amplitude of the optimal solution!\n",
    "d_max"
   ]
  },
  {
   "cell_type": "code",
   "execution_count": 85,
   "id": "66a55b0f-f0b2-4805-b3db-b060bd198645",
   "metadata": {},
   "outputs": [
    {
     "data": {
      "text/plain": [
       "array([[0, 0, 0, 0, 0, 0, 0, 1, 0],\n",
       "       [0, 0, 0, 0, 1, 0, 0, 0, 1],\n",
       "       [0, 0, 0, 0, 0, 1, 0, 0, 1],\n",
       "       [0, 0, 1, 0, 0, 0, 0, 1, 0],\n",
       "       [1, 0, 0, 0, 0, 0, 0, 1, 0],\n",
       "       [0, 0, 0, 0, 1, 0, 1, 0, 0],\n",
       "       [1, 0, 0, 0, 1, 0, 0, 0, 0],\n",
       "       [0, 1, 0, 0, 0, 0, 0, 0, 0],\n",
       "       [1, 1, 0, 0, 0, 0, 0, 0, 0],\n",
       "       [0, 0, 0, 0, 0, 0, 1, 1, 0],\n",
       "       [0, 0, 0, 1, 0, 0, 0, 0, 1],\n",
       "       [0, 0, 0, 0, 0, 0, 0, 0, 1],\n",
       "       [0, 0, 1, 0, 0, 0, 0, 0, 1],\n",
       "       [0, 0, 0, 0, 0, 1, 1, 0, 0],\n",
       "       [0, 1, 0, 1, 0, 0, 0, 0, 0]])"
      ]
     },
     "execution_count": 85,
     "metadata": {},
     "output_type": "execute_result"
    }
   ],
   "source": [
    "B_max"
   ]
  },
  {
   "cell_type": "code",
   "execution_count": 100,
   "id": "ce564383-7643-4670-9a34-137025dc5def",
   "metadata": {},
   "outputs": [
    {
     "data": {
      "text/plain": [
       "15"
      ]
     },
     "execution_count": 100,
     "metadata": {},
     "output_type": "execute_result"
    }
   ],
   "source": [
    "B_max.shape[0]"
   ]
  },
  {
   "cell_type": "code",
   "execution_count": 101,
   "id": "c747cb73-61d0-4a85-9e35-c680c5b2fe46",
   "metadata": {},
   "outputs": [],
   "source": [
    "v = np.ones(B_max.shape[0], dtype=int)  # 10 entries, all 1\n",
    "v[0] = 0\n",
    "v[6] = 0\n",
    "v[11] = 0"
   ]
  },
  {
   "cell_type": "code",
   "execution_count": 103,
   "id": "69a97056-2a82-435e-9d1a-cf5228acc341",
   "metadata": {},
   "outputs": [],
   "source": [
    "def count_satisfied_constraints(assignment, B, c):\n",
    "    \"\"\"\n",
    "    assignment: array-like of 4 binary variables (b1, b2, b3, b4)\n",
    "    returns: number of satisfied constraints\n",
    "    \"\"\"\n",
    "    assignment = np.array(assignment) % 2  # make sure it's mod 2\n",
    "    lhs = (B @ assignment) % 2\n",
    "    satisfied = (lhs == c)\n",
    "    return np.sum(satisfied)"
   ]
  },
  {
   "cell_type": "code",
   "execution_count": 104,
   "id": "8df547df-bd8b-466f-972e-5b493aa261a7",
   "metadata": {},
   "outputs": [
    {
     "name": "stdout",
     "output_type": "stream",
     "text": [
      "Assignment [0 0 1 1 0 0 1 1 1] satisfies 7 out of 15 constraints.\n"
     ]
    }
   ],
   "source": [
    "# Example usage:\n",
    "assignment = np.random.randint(0, 2, size=(B.shape[1]))  # example assignment\n",
    "num_satisfied = count_satisfied_constraints(assignment, B, v)\n",
    "print(f\"Assignment {assignment} satisfies {num_satisfied} out of {(B.shape[0])} constraints.\")"
   ]
  },
  {
   "cell_type": "code",
   "execution_count": 200,
   "id": "75b15cde-2248-4c84-ae57-3c5d3fae7283",
   "metadata": {},
   "outputs": [
    {
     "name": "stdout",
     "output_type": "stream",
     "text": [
      "Best number of satisfied constraints: 13 out of 15\n",
      "Best assignment(s):\n",
      "(1, 0, 1, 1, 1, 1, 0, 0, 0)\n"
     ]
    }
   ],
   "source": [
    "# Enumerate all 2^4 = 16 possible assignments\n",
    "all_assignments = list(itertools.product([0, 1], repeat=B.shape[1]))\n",
    "\n",
    "# Track best assignments\n",
    "best_count = -1\n",
    "best_assignments = []\n",
    "\n",
    "for assignment in all_assignments:\n",
    "    count = count_satisfied_constraints(assignment, B, v)\n",
    "    if count > best_count:\n",
    "        best_count = count\n",
    "        best_assignments = [assignment]\n",
    "    elif count == best_count:\n",
    "        best_assignments.append(assignment)\n",
    "\n",
    "# Display results\n",
    "print(f\"Best number of satisfied constraints: {best_count} out of {(B.shape[0])}\")\n",
    "print(\"Best assignment(s):\")\n",
    "for assignment in best_assignments:\n",
    "    print(assignment)\n"
   ]
  },
  {
   "cell_type": "code",
   "execution_count": 109,
   "id": "b31ca248-bf57-4bae-ad08-48532c0bcd38",
   "metadata": {},
   "outputs": [
    {
     "data": {
      "text/plain": [
       "array([[0, 0, 0, 0, 0, 0, 0, 1, 0],\n",
       "       [0, 0, 0, 0, 1, 0, 0, 0, 1],\n",
       "       [0, 0, 0, 0, 0, 1, 0, 0, 1],\n",
       "       [0, 0, 1, 0, 0, 0, 0, 1, 0],\n",
       "       [1, 0, 0, 0, 0, 0, 0, 1, 0],\n",
       "       [0, 0, 0, 0, 1, 0, 1, 0, 0],\n",
       "       [1, 0, 0, 0, 1, 0, 0, 0, 0],\n",
       "       [0, 1, 0, 0, 0, 0, 0, 0, 0],\n",
       "       [1, 1, 0, 0, 0, 0, 0, 0, 0],\n",
       "       [0, 0, 0, 0, 0, 0, 1, 1, 0],\n",
       "       [0, 0, 0, 1, 0, 0, 0, 0, 1],\n",
       "       [0, 0, 0, 0, 0, 0, 0, 0, 1],\n",
       "       [0, 0, 1, 0, 0, 0, 0, 0, 1],\n",
       "       [0, 0, 0, 0, 0, 1, 1, 0, 0],\n",
       "       [0, 1, 0, 1, 0, 0, 0, 0, 0]])"
      ]
     },
     "execution_count": 109,
     "metadata": {},
     "output_type": "execute_result"
    }
   ],
   "source": [
    "B"
   ]
  },
  {
   "cell_type": "markdown",
   "id": "b62f0279-bde4-4a22-97b7-eefdc503549a",
   "metadata": {},
   "source": [
    "## How do the probabilities scale?"
   ]
  },
  {
   "cell_type": "code",
   "execution_count": 211,
   "id": "da658edd-220d-4fbb-9c34-66c91725414e",
   "metadata": {},
   "outputs": [
    {
     "data": {
      "image/png": "[encoded data removed]",
      "text/plain": [
       "<Figure size 800x600 with 1 Axes>"
      ]
     },
     "metadata": {},
     "output_type": "display_data"
    }
   ],
   "source": [
    "import matplotlib.pyplot as plt\n",
    "\n",
    "# Define x values\n",
    "x = np.arange(0, 14)\n",
    "\n",
    "# Plot for different l values\n",
    "l_values = [1]\n",
    "\n",
    "plt.figure(figsize=(8,6))\n",
    "\n",
    "\n",
    "for l in l_values:\n",
    "    y = (x/13)**l\n",
    "    plt.plot(x, y, marker='o', label=f\"l = {l}\")\n",
    "\n",
    "plt.title(r\"Probabilities (up to normalization) with increasing DQI\\n polynomial order $f(x) = \\left(\\frac{x}{13}\\right)^l$\")\n",
    "plt.xlabel(\"x\")\n",
    "plt.ylabel(\"f(x)\")\n",
    "plt.legend()\n",
    "plt.grid(True)\n",
    "plt.savefig(\"dqi_perf.png\")\n",
    "plt.show()\n"
   ]
  },
  {
   "cell_type": "code",
   "execution_count": null,
   "id": "356f64b4-9887-4924-b63f-b994542f1e67",
   "metadata": {},
   "outputs": [],
   "source": []
  },
  {
   "cell_type": "markdown",
   "id": "a64bb315-8b4d-4126-9139-2fbccd761240",
   "metadata": {},
   "source": [
    "# To get the QUBO instance generated by this problem"
   ]
  },
  {
   "cell_type": "code",
   "execution_count": 185,
   "id": "7a844ef6-4735-41b2-a789-704f02495f9a",
   "metadata": {},
   "outputs": [],
   "source": [
    "import sympy as sp\n",
    "import numpy as np\n",
    "\n",
    "def symbolic_expand_and_extract_Q_precise(S, penalty_cells, M_penalty=20):\n",
    "    \"\"\"\n",
    "    Expand F(b) = sum_i b_i + sum_j (1 - sum_i S_ji b_i)^2 + M * sum_penalty_cells b_i\n",
    "    symbolically and extract Q and const such that F(b) = b^T Q b + const\n",
    "    with only single-variable b_i replaced by b_i^2\n",
    "    \"\"\"\n",
    "    m, n = S.shape\n",
    "\n",
    "    # Define symbolic variables b1, ..., bn\n",
    "    b = sp.Matrix(sp.symbols(f\"b1:{n+1}\"))  # b1, ..., b9\n",
    "\n",
    "    # Define F(b)\n",
    "    F = sum(b)  # sum_i b_i\n",
    "\n",
    "    for j in range(m):\n",
    "        inner_sum = sum(S[j, i] * b[i] for i in range(n))\n",
    "        F += (1 - inner_sum)**2\n",
    "\n",
    "    # Add penalty terms\n",
    "    F += M_penalty * sum(b[i] for i in penalty_cells)\n",
    "\n",
    "    # Expand F\n",
    "    F = sp.expand(F)\n",
    "\n",
    "    # Now selectively replace single b_i terms (degree 1) with b_i**2\n",
    "    F_replaced = 0\n",
    "    for term in F.as_ordered_terms():\n",
    "        variables = term.free_symbols\n",
    "        if len(variables) == 1:\n",
    "            # Single-variable term like b1\n",
    "            var = list(variables)[0]\n",
    "            F_replaced += term.subs(var, var**2)\n",
    "        else:\n",
    "            F_replaced += term\n",
    "\n",
    "    F = sp.expand(F_replaced)\n",
    "\n",
    "    # Now collect into a quadratic form: F = b^T Q b + const\n",
    "    Q = sp.zeros(n, n)\n",
    "    const = F\n",
    "\n",
    "    # Collect terms\n",
    "    for i in range(n):\n",
    "        for k in range(i, n):\n",
    "            coeff = F.coeff(b[i] * b[k])\n",
    "            if i == k:\n",
    "                Q[i,i] += coeff\n",
    "                const -= coeff * b[i]**2\n",
    "            else:\n",
    "                Q[i,k] += coeff/2\n",
    "                Q[k,i] += coeff/2\n",
    "                const -= coeff * b[i] * b[k]\n",
    "\n",
    "    const = const.simplify()\n",
    "\n",
    "    return Q, const"
   ]
  },
  {
   "cell_type": "code",
   "execution_count": 186,
   "id": "e01c850a-a6ca-4e28-9985-8b04f9857124",
   "metadata": {},
   "outputs": [],
   "source": [
    "# Example usage:\n",
    "\n",
    "S = np.array([\n",
    "    [0,0,0,1,0,0,0,1,0],\n",
    "    [0,0,0,1,0,0,0,1,0],\n",
    "    [0,1,0,0,0,0,1,0,0],\n",
    "    [1,0,0,1,0,0,0,0,0],\n",
    "    [0,0,0,1,1,0,0,0,0],\n",
    "    [1,0,0,1,0,0,0,0,0],\n",
    "    [0,1,0,0,1,0,0,0,0],\n",
    "    [1,1,0,0,0,0,0,0,0],\n",
    "    [0,0,0,0,1,0,0,1,0],\n",
    "    [0,1,0,0,1,0,0,0,0]\n",
    "])\n",
    "\n",
    "penalty_cells = [1, 7, 8]  # Where no-go zones are"
   ]
  },
  {
   "cell_type": "code",
   "execution_count": 194,
   "id": "aa2bc9c2-fad7-4b62-95b2-a4c78b7edb68",
   "metadata": {},
   "outputs": [
    {
     "data": {
      "text/latex": [
       "$\\displaystyle \\left[\\begin{matrix}-5 & 1 & 0 & 2 & 0 & 0 & 0 & 0 & 0\\\\1 & 3 & 0 & 0 & 2 & 0 & 1 & 0 & 0\\\\0 & 0 & 1 & 0 & 0 & 0 & 0 & 0 & 0\\\\2 & 0 & 0 & -9 & 1 & 0 & 0 & 2 & 0\\\\0 & 2 & 0 & 1 & -7 & 0 & 0 & 1 & 0\\\\0 & 0 & 0 & 0 & 0 & 1 & 0 & 0 & 0\\\\0 & 1 & 0 & 0 & 0 & 0 & -1 & 0 & 0\\\\0 & 0 & 0 & 2 & 1 & 0 & 0 & 5 & 0\\\\0 & 0 & 0 & 0 & 0 & 0 & 0 & 0 & 11\\end{matrix}\\right]$"
      ],
      "text/plain": [
       "Matrix([\n",
       "[-5, 1, 0,  2,  0, 0,  0, 0,  0],\n",
       "[ 1, 3, 0,  0,  2, 0,  1, 0,  0],\n",
       "[ 0, 0, 1,  0,  0, 0,  0, 0,  0],\n",
       "[ 2, 0, 0, -9,  1, 0,  0, 2,  0],\n",
       "[ 0, 2, 0,  1, -7, 0,  0, 1,  0],\n",
       "[ 0, 0, 0,  0,  0, 1,  0, 0,  0],\n",
       "[ 0, 1, 0,  0,  0, 0, -1, 0,  0],\n",
       "[ 0, 0, 0,  2,  1, 0,  0, 5,  0],\n",
       "[ 0, 0, 0,  0,  0, 0,  0, 0, 11]])"
      ]
     },
     "execution_count": 194,
     "metadata": {},
     "output_type": "execute_result"
    }
   ],
   "source": [
    "Q, const = symbolic_expand_and_extract_Q_precise(S, penalty_cells, M_penalty=10)\n",
    "sp.Matrix(Q)"
   ]
  },
  {
   "cell_type": "code",
   "execution_count": 195,
   "id": "6b40beb6-4be3-4ed5-ab8a-f8fa04e9b9b9",
   "metadata": {},
   "outputs": [
    {
     "data": {
      "text/plain": [
       "(9, 9)"
      ]
     },
     "execution_count": 195,
     "metadata": {},
     "output_type": "execute_result"
    }
   ],
   "source": [
    "Q.shape"
   ]
  },
  {
   "cell_type": "code",
   "execution_count": 196,
   "id": "8f2f13d2-8ed9-4c72-9701-ef4d95d4e966",
   "metadata": {},
   "outputs": [
    {
     "name": "stdout",
     "output_type": "stream",
     "text": [
      "Matrix([[-5, 1, 0, 2, 0, 0, 0, 0, 0], [1, 3, 0, 0, 2, 0, 1, 0, 0], [0, 0, 1, 0, 0, 0, 0, 0, 0], [2, 0, 0, -9, 1, 0, 0, 2, 0], [0, 2, 0, 1, -7, 0, 0, 1, 0], [0, 0, 0, 0, 0, 1, 0, 0, 0], [0, 1, 0, 0, 0, 0, -1, 0, 0], [0, 0, 0, 2, 1, 0, 0, 5, 0], [0, 0, 0, 0, 0, 0, 0, 0, 11]])\n"
     ]
    }
   ],
   "source": [
    "print(Q)"
   ]
  },
  {
   "cell_type": "code",
   "execution_count": 201,
   "id": "b959c448-7a10-482a-9e05-0e2882f5a770",
   "metadata": {},
   "outputs": [],
   "source": [
    "# Now pass this Q to the QAOA simulator"
   ]
  },
  {
   "cell_type": "code",
   "execution_count": null,
   "id": "9f49b3c3-834c-477b-991a-a5a3d8fc1ffc",
   "metadata": {},
   "outputs": [],
   "source": []
  }
 ],
 "metadata": {
  "kernelspec": {
   "display_name": "Python 3 (ipykernel)",
   "language": "python",
   "name": "python3"
  },
  "language_info": {
   "codemirror_mode": {
    "name": "ipython",
    "version": 3
   },
   "file_extension": ".py",
   "mimetype": "text/x-python",
   "name": "python",
   "nbconvert_exporter": "python",
   "pygments_lexer": "ipython3",
   "version": "3.13.1"
  }
 },
 "nbformat": 4,
 "nbformat_minor": 5
}
